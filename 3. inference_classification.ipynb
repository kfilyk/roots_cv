{
 "cells": [
  {
   "cell_type": "code",
   "execution_count": null,
   "id": "b3183e18-9420-404e-83f6-c982f9ec5bd3",
   "metadata": {},
   "outputs": [],
   "source": [
    "%matplotlib inline"
   ]
  },
  {
   "cell_type": "code",
   "execution_count": null,
   "id": "e26925bf-714d-42ab-ac48-ee0bef8d174b",
   "metadata": {},
   "outputs": [],
   "source": [
    "import os\n",
    "import numpy as np\n",
    "from PIL import Image\n",
    "from dotenv import load_dotenv\n",
    "from matplotlib import pyplot as plt\n",
    "\n",
    "from utils.predictors import ImageClassificationPredictor"
   ]
  },
  {
   "cell_type": "code",
   "execution_count": null,
   "id": "ea6b6e78-b62f-4916-a008-88d136d40c24",
   "metadata": {},
   "outputs": [],
   "source": [
    "load_dotenv(\"env\")"
   ]
  },
  {
   "cell_type": "code",
   "execution_count": null,
   "id": "23eb5c34-d1c4-4f53-8313-44e8429b0a00",
   "metadata": {},
   "outputs": [],
   "source": [
    "model_predictor = ImageClassificationPredictor(\n",
    "    model_id=os.environ[\"IMAGE_CLASSIFICATION_MODEL_ID\"],\n",
    "    model_version=os.environ[\"IMAGE_CLASSIFICATION_MODEL_VERSION\"],\n",
    "    model_uri=os.environ[\"IMAGE_CLASSIFICATION_MODEL_URI\"],\n",
    "    instance_type=os.environ[\"INFERENCE_INSTANCE_TYPE\"]\n",
    ")"
   ]
  },
  {
   "cell_type": "code",
   "execution_count": null,
   "id": "1f3b9f7a-ad82-4c71-b00d-c033aa259c63",
   "metadata": {},
   "outputs": [],
   "source": [
    "%%time\n",
    "model_predictor.deploy(\n",
    "    instance_type=os.environ[\"INFERENCE_INSTANCE_TYPE\"],\n",
    "    instance_count=int(os.environ[\"INFERENCE_INSTANCE_COUNT\"]),\n",
    ")"
   ]
  },
  {
   "cell_type": "code",
   "execution_count": null,
   "id": "a685a510-9a43-4ff6-a293-09ae578a7979",
   "metadata": {
    "tags": []
   },
   "outputs": [],
   "source": [
    "def sort_label_by_probability(labels, probabilities):\n",
    "    sorted_idx = sorted(\n",
    "        range(len(probabilities)), key=lambda index: probabilities[index], reverse=True\n",
    "    )\n",
    "    return [(labels[idx], probabilities[idx]) for idx in sorted_idx]\n",
    "\n",
    "\n",
    "image_dir = os.path.join(\"images\", \"test\")\n",
    "for image_filename in sorted(os.listdir(image_dir)):\n",
    "    if not image_filename.endswith(\".jpg\"):\n",
    "        continue\n",
    "    image_path = os.path.join(image_dir, image_filename)\n",
    "    with open(image_path, \"rb\") as file:\n",
    "        image_binary = file.read()\n",
    "    labels, probabilities = model_predictor.predict(image_binary)\n",
    "    image = Image.open(image_path)\n",
    "    plt.figure(figsize=(5, 5))\n",
    "    plt.imshow(np.array(image))\n",
    "    plt.show()\n",
    "    print(image_path)\n",
    "    for label, probability in sort_label_by_probability(labels, probabilities):\n",
    "        print(f\"{label}: {probability*100:.2f}%\")\n",
    "    print(\"\")"
   ]
  },
  {
   "cell_type": "code",
   "execution_count": null,
   "id": "b75769c0-14b8-483c-90eb-84bce00f26ca",
   "metadata": {},
   "outputs": [],
   "source": [
    "# Delete the SageMaker endpoint and the attached resources\n",
    "model_predictor.delete()"
   ]
  }
 ],
 "metadata": {
  "instance_type": "ml.t3.medium",
  "kernelspec": {
   "display_name": "Python 3 (Data Science)",
   "language": "python",
   "name": "python3__SAGEMAKER_INTERNAL__arn:aws:sagemaker:ca-central-1:310906938811:image/datascience-1.0"
  },
  "language_info": {
   "codemirror_mode": {
    "name": "ipython",
    "version": 3
   },
   "file_extension": ".py",
   "mimetype": "text/x-python",
   "name": "python",
   "nbconvert_exporter": "python",
   "pygments_lexer": "ipython3",
   "version": "3.7.10"
  }
 },
 "nbformat": 4,
 "nbformat_minor": 5
}
