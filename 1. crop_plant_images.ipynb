{
 "cells": [
  {
   "cell_type": "code",
   "execution_count": null,
   "id": "7db1bd49-9ee9-444b-a65e-2402f9e2c1b5",
   "metadata": {},
   "outputs": [],
   "source": [
    "import os\n",
    "import re\n",
    "import numpy as np\n",
    "from tqdm import tqdm\n",
    "from dotenv import load_dotenv\n",
    "\n",
    "from utils.s3_bucket import S3Bucket\n",
    "from utils.predictors import ObjectDetectionPredictor"
   ]
  },
  {
   "cell_type": "code",
   "execution_count": null,
   "id": "725cced9-2d36-45ac-8318-4ec43d6682ee",
   "metadata": {},
   "outputs": [],
   "source": [
    "load_dotenv(\"env\")"
   ]
  },
  {
   "cell_type": "code",
   "execution_count": null,
   "id": "6b635dba-89fe-46b8-a394-5056f83b8b57",
   "metadata": {},
   "outputs": [],
   "source": [
    "bucket_name = \"ava-cv-raw-photo-bucket\"\n",
    "input_prefix = os.path.join(\"10-plants\", \"GoogleImages\")\n",
    "output_prefix = os.path.join(\"10-plants\", \"CroppedGoogleImagess\")"
   ]
  },
  {
   "cell_type": "code",
   "execution_count": null,
   "id": "41041715-1393-43dc-87f5-51e60f6e9b4d",
   "metadata": {},
   "outputs": [],
   "source": [
    "model_predictor = ObjectDetectionPredictor(\n",
    "    model_id=os.environ[\"OBJECT_DETECTION_MODEL_ID\"],\n",
    "    model_version=os.environ[\"OBJECT_DETECTION_MODEL_VERSION\"],\n",
    "    instance_type=os.environ[\"INFERENCE_INSTANCE_TYPE\"],\n",
    ")"
   ]
  },
  {
   "cell_type": "code",
   "execution_count": null,
   "id": "576cc000-478a-49f5-b7a7-8272ffa14b0e",
   "metadata": {},
   "outputs": [],
   "source": [
    "%%time\n",
    "model_predictor.deploy(\n",
    "    instance_type=os.environ[\"INFERENCE_INSTANCE_TYPE\"],\n",
    "    instance_count=int(os.environ[\"INFERENCE_INSTANCE_COUNT\"]),\n",
    ")"
   ]
  },
  {
   "cell_type": "code",
   "execution_count": null,
   "id": "16c57764-4c8c-404a-bc43-29b67abc7269",
   "metadata": {},
   "outputs": [],
   "source": [
    "%%time\n",
    "min_confidence = float(os.environ[\"OBJECT_DETECTION_MIN_CONFIDENCE\"])\n",
    "classes_to_keep = [\"potted plant\"]\n",
    "\n",
    "bucket = S3Bucket(\n",
    "    bucket_name=bucket_name,\n",
    "    region_name=os.environ[\"REGION_NAME\"]\n",
    ")\n",
    "with tqdm(bucket.filter(prefix=input_prefix), position=0, leave=True) as pbar:\n",
    "    for obj in pbar:\n",
    "        key = obj.key\n",
    "        s3_image_path = os.path.join(\"s3://\", bucket_name, key)\n",
    "        pbar.set_description(s3_image_path)\n",
    "        \n",
    "        image = bucket[key]\n",
    "        image_np = np.array(image)\n",
    "        try:\n",
    "            normalized_boxes, classes_names, confidences, labels = model_predictor.predict(image)\n",
    "        except KeyboardInterrupt as exc:\n",
    "            raise exc\n",
    "        except Exception:\n",
    "            print(f\"Exception occured when predicting bounding boxes. Skipping {s3_image_path}...\")\n",
    "            continue\n",
    "            \n",
    "        n_boxes = len(normalized_boxes)\n",
    "        normalized_boxes = [\n",
    "            normalized_boxes[i] for i in range(n_boxes)\n",
    "            if confidences[i] >= min_confidence and classes_names[i] in classes_to_keep\n",
    "        ]\n",
    "\n",
    "        cropped_images = []\n",
    "        for normalized_box in normalized_boxes:\n",
    "            left, top, right, bot = normalized_box\n",
    "            left, right = [val * image_np.shape[1] for val in [left, right]]\n",
    "            bot, top = [val * image_np.shape[0] for val in [bot, top]]\n",
    "            cropped_image = image.crop((left, top, right, bot))\n",
    "            cropped_images.append(cropped_image)\n",
    "\n",
    "        # if no bounding boxes were found, save the original image\n",
    "        if not cropped_images:\n",
    "            cropped_images = [image]\n",
    "\n",
    "        for i, cropped_image in enumerate(cropped_images):\n",
    "            new_key = re.sub(r\"\\.(jpe?g|png)\", f\"-{i}.jpg\", key)\n",
    "            new_key = new_key.replace(input_prefix, output_prefix)\n",
    "            bucket[new_key] = cropped_image"
   ]
  },
  {
   "cell_type": "code",
   "execution_count": null,
   "id": "e69a1f0b-07d0-4e16-8206-980478c61b96",
   "metadata": {},
   "outputs": [],
   "source": [
    "model_predictor.delete()"
   ]
  }
 ],
 "metadata": {
  "instance_type": "ml.t3.medium",
  "kernelspec": {
   "display_name": "Python 3 (Data Science)",
   "language": "python",
   "name": "python3__SAGEMAKER_INTERNAL__arn:aws:sagemaker:ca-central-1:310906938811:image/datascience-1.0"
  },
  "language_info": {
   "codemirror_mode": {
    "name": "ipython",
    "version": 3
   },
   "file_extension": ".py",
   "mimetype": "text/x-python",
   "name": "python",
   "nbconvert_exporter": "python",
   "pygments_lexer": "ipython3",
   "version": "3.7.10"
  }
 },
 "nbformat": 4,
 "nbformat_minor": 5
}
