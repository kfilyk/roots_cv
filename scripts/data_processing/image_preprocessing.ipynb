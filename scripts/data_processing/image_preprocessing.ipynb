{
 "cells": [
  {
   "cell_type": "code",
   "execution_count": null,
   "id": "3a726fb8-7e27-40d3-99b5-4df52027b1ce",
   "metadata": {
    "tags": []
   },
   "outputs": [],
   "source": [
    "!pip uninstall opencv-python -y\n",
    "!pip install opencv-python-headless"
   ]
  },
  {
   "cell_type": "code",
   "execution_count": null,
   "id": "bbe53e9d-f2db-474a-a176-dba6049b6471",
   "metadata": {},
   "outputs": [],
   "source": [
    "import os\n",
    "import sys\n",
    "\n",
    "import cv2\n",
    "import numpy as np\n",
    "from PIL import Image\n",
    "from tqdm import tqdm\n",
    "\n",
    "sys.path.append(os.path.join(\"..\", \"..\"))\n",
    "from utils.s3_bucket import S3Bucket"
   ]
  },
  {
   "cell_type": "code",
   "execution_count": null,
   "id": "86a2f073-d0df-4056-b790-5ac3446903dd",
   "metadata": {},
   "outputs": [],
   "source": [
    "bucket = S3Bucket(\"ava-cv-raw-photo-bucket\")\n",
    "input_prefix = \"Pl@ntNet/plants/images\"\n",
    "output_prefix = \"Pl@ntNet/plants-processed/images\""
   ]
  },
  {
   "cell_type": "code",
   "execution_count": null,
   "id": "781650a2-cc9c-4758-b8f9-366cae64ef2a",
   "metadata": {},
   "outputs": [],
   "source": [
    "def contrast_enhancement(np_image):\n",
    "    \"\"\"\n",
    "    Increases contrast of an image using the LAB color space method.\n",
    "    Copied from https://stackoverflow.com/a/41075028\n",
    "    \"\"\"\n",
    "    # converting to LAB color space\n",
    "    lab = cv2.cvtColor(np_image, cv2.COLOR_BGR2LAB)\n",
    "    l_channel, a, b = cv2.split(lab)\n",
    "\n",
    "    # Applying CLAHE to L-channel\n",
    "    # feel free to try different values for the limit and grid size:\n",
    "    clahe = cv2.createCLAHE(clipLimit=2.0, tileGridSize=(8,8))\n",
    "    cl = clahe.apply(l_channel)\n",
    "\n",
    "    # merge the CLAHE enhanced L-channel with the a and b channel\n",
    "    limg = cv2.merge((cl,a,b))\n",
    "\n",
    "    # Converting image from LAB Color model to BGR color spcae\n",
    "    return cv2.cvtColor(limg, cv2.COLOR_LAB2BGR)"
   ]
  },
  {
   "cell_type": "code",
   "execution_count": null,
   "id": "15e88821-3877-4ce4-add4-623871350bd3",
   "metadata": {},
   "outputs": [],
   "source": [
    "def smooth(np_image):\n",
    "    return cv2.bilateralFilter(\n",
    "    src=np_image,\n",
    "    d=11,\n",
    "    sigmaColor=60,\n",
    "    sigmaSpace=40,\n",
    "    borderType=cv2.BORDER_DEFAULT\n",
    ")"
   ]
  },
  {
   "cell_type": "code",
   "execution_count": null,
   "id": "dd9249bf-ccbf-48d4-bf4b-1c464978dec9",
   "metadata": {},
   "outputs": [],
   "source": [
    "for obj in tqdm(bucket.filter(prefix=input_prefix)):\n",
    "    input_key = obj.key\n",
    "    if not input_key.endswith((\".jpg\", \".jpeg\", \".png\")):\n",
    "        continue\n",
    "        \n",
    "    image = bucket[obj.key]\n",
    "    np_image = np.array(image)\n",
    "    enhanced_np_image = contrast_enhancement(np_image)\n",
    "    smoothed_np_image = smooth(enhanced_np_image)\n",
    "    \n",
    "    output_key = input_key.replace(input_prefix, output_prefix)\n",
    "    bucket[output_key] = Image.fromarray(smoothed_np_image, \"RGB\")"
   ]
  }
 ],
 "metadata": {
  "instance_type": "ml.t3.medium",
  "kernelspec": {
   "display_name": "Python 3 (Data Science)",
   "language": "python",
   "name": "python3__SAGEMAKER_INTERNAL__arn:aws:sagemaker:ca-central-1:310906938811:image/datascience-1.0"
  },
  "language_info": {
   "codemirror_mode": {
    "name": "ipython",
    "version": 3
   },
   "file_extension": ".py",
   "mimetype": "text/x-python",
   "name": "python",
   "nbconvert_exporter": "python",
   "pygments_lexer": "ipython3",
   "version": "3.7.10"
  }
 },
 "nbformat": 4,
 "nbformat_minor": 5
}
