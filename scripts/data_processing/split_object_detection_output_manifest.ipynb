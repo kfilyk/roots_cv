{
 "cells": [
  {
   "cell_type": "code",
   "execution_count": null,
   "id": "a1a629c1-a17a-4927-8d5f-ca9d544be965",
   "metadata": {},
   "outputs": [],
   "source": [
    "import os\n",
    "import re\n",
    "import sys\n",
    "import json\n",
    "from dotenv import load_dotenv\n",
    "\n",
    "sys.path.append(os.path.join(\"..\", \"..\"))\n",
    "from utils.s3_bucket import S3Bucket"
   ]
  },
  {
   "cell_type": "code",
   "execution_count": null,
   "id": "df2944b2-711a-42ae-8934-e9a9a51fa6ca",
   "metadata": {},
   "outputs": [],
   "source": [
    "load_dotenv(os.path.join(\"..\", \"..\", \"env\"))"
   ]
  },
  {
   "cell_type": "code",
   "execution_count": null,
   "id": "0815bc63-0625-44e3-99cb-c14bee0e0f05",
   "metadata": {},
   "outputs": [],
   "source": [
    "job_name = \"\"\n",
    "bucket_name = \"\"\n",
    "key = \"\"\n",
    "image_path_regex = r\"[^/]+/[^/]+\\.jpe?g\""
   ]
  },
  {
   "cell_type": "code",
   "execution_count": null,
   "id": "5f53f762-0ae6-4369-98c5-fd366777bb88",
   "metadata": {},
   "outputs": [],
   "source": [
    "bucket = S3Bucket(\n",
    "    bucket_name=bucket_name,\n",
    "    region_name=os.environ[\"REGION_NAME\"]\n",
    ")\n",
    "\n",
    "records = bucket[key]\n",
    "records = records.split(\"\\n\")\n",
    "records = [record for record in records if record]\n",
    "records = [json.loads(record) for record in records]"
   ]
  },
  {
   "cell_type": "code",
   "execution_count": null,
   "id": "6dafe184-27c2-4d73-a4d5-2c01ab435a5b",
   "metadata": {},
   "outputs": [],
   "source": [
    "new_records = {}\n",
    "\n",
    "for idx, record in enumerate(records):\n",
    "    if job_name not in record:\n",
    "        continue\n",
    "        \n",
    "    match = re.search(image_path_regex, record[\"source-ref\"])\n",
    "    assert(match)\n",
    "        \n",
    "    file_name = match.group(0)\n",
    "    class_map = record[f\"{job_name}-metadata\"][\"class-map\"]\n",
    "    for class_name in class_map.values():\n",
    "        if class_name not in new_records:\n",
    "            new_records[class_name] = {\n",
    "                \"images\": [],\n",
    "                \"annotations\": []\n",
    "            }\n",
    "        \n",
    "        new_records[class_name][\"images\"].append({\n",
    "            \"file_name\": file_name,\n",
    "            \"height\": record[job_name][\"image_size\"][0][\"height\"],\n",
    "            \"width\": record[job_name][\"image_size\"][0][\"width\"],\n",
    "            \"id\": idx\n",
    "        })\n",
    "        \n",
    "    for annotation in record[job_name][\"annotations\"]:\n",
    "        # bbox is [left, top, right, bottom]\n",
    "        bbox = [\n",
    "            float(annotation[\"left\"]),\n",
    "            float(annotation[\"top\"]),\n",
    "            float(annotation[\"left\"] + annotation[\"width\"]),\n",
    "            float(annotation[\"top\"] + annotation[\"height\"])\n",
    "        ]\n",
    "        class_name = class_map[str(annotation[\"class_id\"])]\n",
    "        new_records[class_name][\"annotations\"].append({\n",
    "            \"image_id\": idx,\n",
    "            \"bbox\": bbox,\n",
    "            \"category_id\": class_name\n",
    "        })"
   ]
  },
  {
   "cell_type": "code",
   "execution_count": null,
   "id": "f21b87dc-1bc4-4e22-b3de-5bbc47e69814",
   "metadata": {},
   "outputs": [],
   "source": [
    "for record_type, records in new_records.items():\n",
    "    new_key = key.replace(\"output.manifest\", f\"{record_type}/annotations.json\")\n",
    "    print(os.path.join(\"s3://\", bucket_name, new_key))\n",
    "    bucket[new_key] = json.dumps(records)"
   ]
  }
 ],
 "metadata": {
  "instance_type": "ml.t3.medium",
  "kernelspec": {
   "display_name": "Python 3 (Data Science)",
   "language": "python",
   "name": "python3__SAGEMAKER_INTERNAL__arn:aws:sagemaker:ca-central-1:310906938811:image/datascience-1.0"
  },
  "language_info": {
   "codemirror_mode": {
    "name": "ipython",
    "version": 3
   },
   "file_extension": ".py",
   "mimetype": "text/x-python",
   "name": "python",
   "nbconvert_exporter": "python",
   "pygments_lexer": "ipython3",
   "version": "3.7.10"
  }
 },
 "nbformat": 4,
 "nbformat_minor": 5
}
