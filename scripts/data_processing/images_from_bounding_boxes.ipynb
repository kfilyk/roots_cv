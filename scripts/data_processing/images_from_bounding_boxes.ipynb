{
 "cells": [
  {
   "cell_type": "code",
   "execution_count": null,
   "id": "7db1bd49-9ee9-444b-a65e-2402f9e2c1b5",
   "metadata": {},
   "outputs": [],
   "source": [
    "import os\n",
    "import re\n",
    "import sys\n",
    "import json\n",
    "import numpy as np\n",
    "from tqdm import tqdm\n",
    "from dotenv import load_dotenv\n",
    "\n",
    "sys.path.append(os.path.join(\"..\", \"..\"))\n",
    "from utils.s3_bucket import S3Bucket"
   ]
  },
  {
   "cell_type": "code",
   "execution_count": null,
   "id": "725cced9-2d36-45ac-8318-4ec43d6682ee",
   "metadata": {},
   "outputs": [],
   "source": [
    "load_dotenv(os.path.join(\"..\", \"..\", \"env\"))"
   ]
  },
  {
   "cell_type": "code",
   "execution_count": null,
   "id": "6b635dba-89fe-46b8-a394-5056f83b8b57",
   "metadata": {},
   "outputs": [],
   "source": [
    "bucket_name = \"ava-cv-raw-photo-bucket\"\n",
    "input_prefix = \"temp/plants/\"\n",
    "output_prefix = \"temp/leaves/\""
   ]
  },
  {
   "cell_type": "code",
   "execution_count": null,
   "id": "d046286e-e5fb-4436-8e08-d03f5dea0ef6",
   "metadata": {},
   "outputs": [],
   "source": [
    "bucket = S3Bucket(\n",
    "    bucket_name=bucket_name,\n",
    "    region_name=os.environ[\"REGION_NAME\"]\n",
    ")"
   ]
  },
  {
   "cell_type": "code",
   "execution_count": null,
   "id": "8c5b0e64-d68c-41a5-875b-48fc2fda1f84",
   "metadata": {
    "tags": []
   },
   "outputs": [],
   "source": [
    "annotations_key = os.path.join(input_prefix, \"annotations.json\")\n",
    "annotations = bucket[annotations_key]\n",
    "annotations = json.loads(annotations)\n",
    "\n",
    "# Create dictionary which maps image IDs to its bounding boxes\n",
    "image_id_to_bounding_boxes = {}\n",
    "for image in annotations[\"images\"]:\n",
    "    image_id_to_bounding_boxes[image[\"id\"]] = []\n",
    "\n",
    "for annotation in annotations[\"annotations\"]:\n",
    "    image_id_to_bounding_boxes[annotation[\"image_id\"]].append(annotation[\"bbox\"])"
   ]
  },
  {
   "cell_type": "code",
   "execution_count": null,
   "id": "16c57764-4c8c-404a-bc43-29b67abc7269",
   "metadata": {},
   "outputs": [],
   "source": [
    "# Save cropped images using bounding boxes\n",
    "for image_data in tqdm(annotations[\"images\"]):\n",
    "    image_key = os.path.join(input_prefix, \"images\", image_data[\"file_name\"])\n",
    "    image = bucket[image_key]\n",
    "    \n",
    "    cropped_images = []\n",
    "    image_np = np.array(image)\n",
    "    for bbox in image_id_to_bounding_boxes[image_data[\"id\"]]:\n",
    "        cropped_image = image.copy().crop(bbox)\n",
    "        cropped_images.append(cropped_image)\n",
    "\n",
    "    for i, cropped_image in enumerate(cropped_images):\n",
    "        new_key = re.sub(r\"\\.(jpe?g|png)\", f\"-{i}.jpg\", image_key)\n",
    "        new_key = new_key.replace(input_prefix, output_prefix)\n",
    "        bucket[new_key] = cropped_image"
   ]
  }
 ],
 "metadata": {
  "instance_type": "ml.t3.medium",
  "kernelspec": {
   "display_name": "Python 3 (Data Science)",
   "language": "python",
   "name": "python3__SAGEMAKER_INTERNAL__arn:aws:sagemaker:ca-central-1:310906938811:image/datascience-1.0"
  },
  "language_info": {
   "codemirror_mode": {
    "name": "ipython",
    "version": 3
   },
   "file_extension": ".py",
   "mimetype": "text/x-python",
   "name": "python",
   "nbconvert_exporter": "python",
   "pygments_lexer": "ipython3",
   "version": "3.7.10"
  }
 },
 "nbformat": 4,
 "nbformat_minor": 5
}
