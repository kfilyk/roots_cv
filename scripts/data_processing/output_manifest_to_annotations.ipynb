{
 "cells": [
  {
   "cell_type": "code",
   "execution_count": null,
   "id": "a1a629c1-a17a-4927-8d5f-ca9d544be965",
   "metadata": {},
   "outputs": [],
   "source": [
    "import os\n",
    "import re\n",
    "import sys\n",
    "import json\n",
    "\n",
    "from tqdm import tqdm\n",
    "from dotenv import load_dotenv\n",
    "\n",
    "sys.path.append(os.path.join(\"..\", \"..\"))\n",
    "from utils.s3_bucket import S3Bucket"
   ]
  },
  {
   "cell_type": "code",
   "execution_count": null,
   "id": "df2944b2-711a-42ae-8934-e9a9a51fa6ca",
   "metadata": {},
   "outputs": [],
   "source": [
    "load_dotenv(os.path.join(\"..\", \"..\", \"env\"))"
   ]
  },
  {
   "cell_type": "code",
   "execution_count": null,
   "id": "0815bc63-0625-44e3-99cb-c14bee0e0f05",
   "metadata": {},
   "outputs": [],
   "source": [
    "input_bucket_name = \"ava-cv-labels\"\n",
    "input_keys = [\n",
    "    \"basil-leaf-bounding-box/manifests/output/output.manifest\",\n",
    "    \"cilantro-leaf-bounding-box/manifests/output/output.manifest\",\n",
    "    \"Pl@ntNet/plants/plantnet-strawberry-leaf-bounding-box/manifests/output/output.manifest\",\n",
    "    \"Pl@ntNet/plants/plantnet-tomato-leaf-bounding-box/manifests/output/output.manifest\",\n",
    "    \"Pl@ntNet/plants/plantnet-red-pepper-leaf-bounding-box/manifests/output/output.manifest\",\n",
    "]\n",
    "output_bucket_name = \"ava-cv-raw-photo-bucket\"\n",
    "output_prefix = \"temp/\""
   ]
  },
  {
   "cell_type": "code",
   "execution_count": null,
   "id": "5f53f762-0ae6-4369-98c5-fd366777bb88",
   "metadata": {
    "tags": []
   },
   "outputs": [],
   "source": [
    "input_bucket = S3Bucket(\n",
    "    bucket_name=input_bucket_name,\n",
    "    region_name=os.environ[\"REGION_NAME\"]\n",
    ")\n",
    "\n",
    "def load_records(bucket, key):\n",
    "    records = bucket[key]\n",
    "    records = records.split(\"\\n\")\n",
    "    records = [record for record in records if record]\n",
    "    return [json.loads(record) for record in records]\n",
    "\n",
    "records = []\n",
    "for key in input_keys:\n",
    "    records.extend(load_records(input_bucket, key))"
   ]
  },
  {
   "cell_type": "code",
   "execution_count": null,
   "id": "385984d9-8365-443b-92d7-34176c3e607f",
   "metadata": {},
   "outputs": [],
   "source": [
    "output_bucket = S3Bucket(\n",
    "    bucket_name=output_bucket_name,\n",
    "    region_name=os.environ[\"REGION_NAME\"]\n",
    ")"
   ]
  },
  {
   "cell_type": "code",
   "execution_count": null,
   "id": "cf48c40e-c1a1-492d-97c6-c3aca10288bf",
   "metadata": {},
   "outputs": [],
   "source": [
    "new_records = {\n",
    "    \"images\": [],\n",
    "    \"annotations\": []\n",
    "}\n",
    "\n",
    "for idx, record in enumerate(tqdm(records)):\n",
    "    job_names = [key.replace(\"-metadata\", \"\") for key in list(record.keys()) if key.endswith(\"-metadata\")]\n",
    "    if not job_names:\n",
    "        continue\n",
    "        \n",
    "    match = re.search(r\"[^/]+/[^/]+\\.jpe?g\", record[\"source-ref\"])\n",
    "    assert(match)\n",
    "        \n",
    "    file_name = match.group(0)\n",
    "    for job_name in job_names:\n",
    "        if \"failure-reason\" in record[f\"{job_name}-metadata\"]:\n",
    "            continue\n",
    "            \n",
    "        class_map = record[f\"{job_name}-metadata\"][\"class-map\"]\n",
    "        new_records[\"images\"].append({\n",
    "            \"file_name\": file_name,\n",
    "            \"height\": record[job_name][\"image_size\"][0][\"height\"],\n",
    "            \"width\": record[job_name][\"image_size\"][0][\"width\"],\n",
    "            \"id\": idx\n",
    "        })\n",
    "\n",
    "        for annotation in record[job_name][\"annotations\"]:\n",
    "            # bbox is [left, top, right, bottom]\n",
    "            bbox = [\n",
    "                float(annotation[\"left\"]),\n",
    "                float(annotation[\"top\"]),\n",
    "                float(annotation[\"left\"] + annotation[\"width\"]),\n",
    "                float(annotation[\"top\"] + annotation[\"height\"])\n",
    "            ]\n",
    "            class_name = class_map[str(annotation[\"class_id\"])]\n",
    "            new_records[\"annotations\"].append({\n",
    "                \"image_id\": idx,\n",
    "                \"bbox\": bbox,\n",
    "                \"category_id\": class_name\n",
    "            })\n",
    "            \n",
    "output_key = os.path.join(output_prefix, \"annotations.json\")\n",
    "output_bucket[output_key] = json.dumps(new_records, indent=4)"
   ]
  }
 ],
 "metadata": {
  "instance_type": "ml.t3.medium",
  "kernelspec": {
   "display_name": "Python 3 (Data Science)",
   "language": "python",
   "name": "python3__SAGEMAKER_INTERNAL__arn:aws:sagemaker:ca-central-1:310906938811:image/datascience-1.0"
  },
  "language_info": {
   "codemirror_mode": {
    "name": "ipython",
    "version": 3
   },
   "file_extension": ".py",
   "mimetype": "text/x-python",
   "name": "python",
   "nbconvert_exporter": "python",
   "pygments_lexer": "ipython3",
   "version": "3.7.10"
  }
 },
 "nbformat": 4,
 "nbformat_minor": 5
}
