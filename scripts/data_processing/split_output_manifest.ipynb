{
 "cells": [
  {
   "cell_type": "code",
   "execution_count": null,
   "id": "a1a629c1-a17a-4927-8d5f-ca9d544be965",
   "metadata": {},
   "outputs": [],
   "source": [
    "import os\n",
    "import sys\n",
    "import json\n",
    "from copy import deepcopy\n",
    "from dotenv import load_dotenv\n",
    "\n",
    "sys.path.append(os.path.join(\"..\", \"..\"))\n",
    "from utils.s3_bucket import S3Bucket"
   ]
  },
  {
   "cell_type": "code",
   "execution_count": null,
   "id": "df2944b2-711a-42ae-8934-e9a9a51fa6ca",
   "metadata": {},
   "outputs": [],
   "source": [
    "load_dotenv(os.path.join(\"..\", \"..\", \"env\"))"
   ]
  },
  {
   "cell_type": "code",
   "execution_count": null,
   "id": "0815bc63-0625-44e3-99cb-c14bee0e0f05",
   "metadata": {},
   "outputs": [],
   "source": [
    "job_name = \"cilantro-object-detection-job\"\n",
    "bucket_name = \"ava-cv-labels\"\n",
    "key = \"cilantro-object-detection-job/manifests/intermediate/1/output.manifest\""
   ]
  },
  {
   "cell_type": "code",
   "execution_count": null,
   "id": "5f53f762-0ae6-4369-98c5-fd366777bb88",
   "metadata": {},
   "outputs": [],
   "source": [
    "bucket = S3Bucket(\n",
    "    bucket_name=bucket_name,\n",
    "    region_name=os.environ[\"REGION_NAME\"]\n",
    ")\n",
    "\n",
    "records = bucket[key]\n",
    "records = records.split(\"\\n\")\n",
    "records = [record for record in records if record]\n",
    "records = [json.loads(record) for record in records]"
   ]
  },
  {
   "cell_type": "code",
   "execution_count": null,
   "id": "6dafe184-27c2-4d73-a4d5-2c01ab435a5b",
   "metadata": {},
   "outputs": [],
   "source": [
    "new_records = {\n",
    "    \"plant\": [],\n",
    "    \"leaf\": [],\n",
    "    \"flower\": [],\n",
    "}\n",
    "\n",
    "for record in records:\n",
    "    job_names = [key[:-9] for key in list(record.keys()) if key.endswith(\"-metadata\")]\n",
    "    for idx, record_type in enumerate(new_records.keys()):\n",
    "        new_record = deepcopy(record)\n",
    "        for job_name in job_names:\n",
    "            class_map = record[f\"{job_name}-metadata\"][\"class-map\"]\n",
    "            confidences = record[f\"{job_name}-metadata\"][\"objects\"]\n",
    "            annotations = record[job_name][\"annotations\"]\n",
    "            idx_to_keep = [i for i in range(len(annotations)) if annotations[i][\"class_id\"] == idx]\n",
    "            new_record[f\"{job_name}-metadata\"][\"class-map\"] = {key: value for key, value in class_map.items() if int(key) == idx}\n",
    "            new_record[f\"{job_name}-metadata\"][\"objects\"] = [confidences[idx] for idx in idx_to_keep]\n",
    "            new_record[job_name][\"annotations\"] = [annotations[idx] for idx in idx_to_keep]\n",
    "        new_records[record_type].append(new_record)"
   ]
  },
  {
   "cell_type": "code",
   "execution_count": null,
   "id": "f21b87dc-1bc4-4e22-b3de-5bbc47e69814",
   "metadata": {},
   "outputs": [],
   "source": [
    "for idx, record_type in enumerate(new_records.keys()):\n",
    "    new_records_str = \"\"\n",
    "    new_key = key.replace(\"output.manifest\", f\"{record_type}/output.manifest\")\n",
    "    for record in new_records[record_type]:\n",
    "        new_records_str += f\"{json.dumps(record)}\\n\"\n",
    "    bucket[new_key] = new_records_str"
   ]
  }
 ],
 "metadata": {
  "instance_type": "ml.t3.medium",
  "kernelspec": {
   "display_name": "Python 3 (Data Science)",
   "language": "python",
   "name": "python3__SAGEMAKER_INTERNAL__arn:aws:sagemaker:ca-central-1:310906938811:image/datascience-1.0"
  },
  "language_info": {
   "codemirror_mode": {
    "name": "ipython",
    "version": 3
   },
   "file_extension": ".py",
   "mimetype": "text/x-python",
   "name": "python",
   "nbconvert_exporter": "python",
   "pygments_lexer": "ipython3",
   "version": "3.7.10"
  }
 },
 "nbformat": 4,
 "nbformat_minor": 5
}
