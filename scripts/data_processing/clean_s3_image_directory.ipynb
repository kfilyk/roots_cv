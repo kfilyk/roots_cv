{
 "cells": [
  {
   "cell_type": "code",
   "execution_count": null,
   "id": "695b6c23-c566-46e3-95b7-ba1b6491e591",
   "metadata": {},
   "outputs": [],
   "source": [
    "import os\n",
    "import re\n",
    "import sys\n",
    "import hashlib\n",
    "from tqdm import tqdm\n",
    "from PIL import Image, ImageChops\n",
    "from dotenv import load_dotenv\n",
    "\n",
    "sys.path.append(os.path.join(\"..\", \"..\"))\n",
    "from utils.s3_bucket import S3Bucket"
   ]
  },
  {
   "cell_type": "code",
   "execution_count": null,
   "id": "4eb30a50-b3d0-4e83-bb21-a7899106b71d",
   "metadata": {},
   "outputs": [],
   "source": [
    "bucket_name = \"ava-cv-raw-photo-bucket\"\n",
    "prefix = \"GoogleImages/plants/\""
   ]
  },
  {
   "cell_type": "code",
   "execution_count": null,
   "id": "387a766f-96ab-4674-98aa-1ef8583f6de8",
   "metadata": {},
   "outputs": [],
   "source": [
    "bucket = S3Bucket(\n",
    "    bucket_name=bucket_name,\n",
    "    region_name=os.environ[\"REGION_NAME\"]\n",
    ")"
   ]
  },
  {
   "cell_type": "code",
   "execution_count": null,
   "id": "c264eebb-a598-4eba-9319-dac3f822d2b0",
   "metadata": {},
   "outputs": [],
   "source": [
    "%%time\n",
    "\n",
    "# convert all images to JPEG format, delete image if it fails to convert\n",
    "failed_images_count = 0\n",
    "for obj in bucket.filter(prefix=prefix):\n",
    "    if not obj.key.endswith((\".png\", \".webp\", \".gif\")):\n",
    "        continue\n",
    "        \n",
    "    new_key = re.sub(r\"\\.(png|webp|gif)\", \".jpeg\", obj.key)\n",
    "    try:\n",
    "        bucket[new_key] = bucket[obj.key]\n",
    "    except KeyboardInterrupt as exc:\n",
    "        raise exc\n",
    "    except Exception:\n",
    "        print(f\"Exception occured when converting image to JPEG. Deleting {obj.key}...\")\n",
    "        failed_images_count += 1\n",
    "    bucket.delete(key=obj.key)\n",
    "    \n",
    "print(f\"Deleted {failed_images_count} failed images.\")"
   ]
  },
  {
   "cell_type": "code",
   "execution_count": null,
   "id": "574a0650-9a43-4799-88ab-7745ac438fb2",
   "metadata": {
    "tags": []
   },
   "outputs": [],
   "source": [
    "%%time\n",
    "\n",
    "# create a hash string from every image, if any of the images have\n",
    "# the same hash string, then they're most likely duplicates\n",
    "duplicate_images_count = 0\n",
    "hash_to_keys = {}\n",
    "for obj in bucket.filter(prefix=prefix):\n",
    "    if not obj.key.endswith((\".jpg\", \".jpeg\")):\n",
    "        continue\n",
    "        \n",
    "    md5_hash = hashlib.md5(bucket[obj.key].tobytes()).hexdigest()\n",
    "    if md5_hash not in hash_to_keys:\n",
    "        hash_to_keys[md5_hash] = []\n",
    "    hash_to_keys[md5_hash].append(obj.key)\n",
    "\n",
    "for md5_hash, keys in hash_to_keys.items():\n",
    "    if len(keys) <= 1:\n",
    "        continue\n",
    "    \n",
    "    for key in keys[1:]:\n",
    "        print(f\"Found duplicate. Deleting {key}...\")\n",
    "        duplicate_images_count += 1\n",
    "        bucket.delete(key=key)\n",
    "        \n",
    "print(f\"Deleted {duplicate_images_count} duplicate images.\")"
   ]
  }
 ],
 "metadata": {
  "instance_type": "ml.t3.medium",
  "kernelspec": {
   "display_name": "Python 3 (Data Science)",
   "language": "python",
   "name": "python3__SAGEMAKER_INTERNAL__arn:aws:sagemaker:ca-central-1:310906938811:image/datascience-1.0"
  },
  "language_info": {
   "codemirror_mode": {
    "name": "ipython",
    "version": 3
   },
   "file_extension": ".py",
   "mimetype": "text/x-python",
   "name": "python",
   "nbconvert_exporter": "python",
   "pygments_lexer": "ipython3",
   "version": "3.7.10"
  }
 },
 "nbformat": 4,
 "nbformat_minor": 5
}
