{
 "cells": [
  {
   "cell_type": "code",
   "execution_count": null,
   "id": "e26925bf-714d-42ab-ac48-ee0bef8d174b",
   "metadata": {},
   "outputs": [],
   "source": [
    "import os\n",
    "import sys\n",
    "import boto3\n",
    "from dotenv import load_dotenv\n",
    "from sagemaker.utils import name_from_base\n",
    "from sagemaker.tuner import ContinuousParameter, HyperparameterTuner\n",
    "\n",
    "sys.path.append(os.path.join(\"..\", \"..\"))\n",
    "from utils.estimators import BaseEstimator, BaseHyperparameterTuner"
   ]
  },
  {
   "cell_type": "code",
   "execution_count": null,
   "id": "5535d03d-316c-4837-bd13-22704c1e2b72",
   "metadata": {},
   "outputs": [],
   "source": [
    "load_dotenv(os.path.join(\"..\", \"..\", \"env\"))"
   ]
  },
  {
   "cell_type": "code",
   "execution_count": null,
   "id": "1e0bd249-0699-4b66-9071-1796b8a48ba8",
   "metadata": {},
   "outputs": [],
   "source": [
    "model_id = os.environ[\"IMAGE_CLASSIFICATION_MODEL_ID\"]\n",
    "model_version = os.environ[\"IMAGE_CLASSIFICATION_MODEL_VERSION\"]\n",
    "\n",
    "base_job_name = name_from_base(model_id.replace(\"tensorflow-\", \"\"))\n",
    "print(f\"base_job_name: {base_job_name}\")"
   ]
  },
  {
   "cell_type": "code",
   "execution_count": null,
   "id": "1e6f96a6-4328-4a5f-a0d6-039529c71e39",
   "metadata": {},
   "outputs": [],
   "source": [
    "s3_input_path = os.path.join(os.environ[\"S3_INPUT_BUCKET\"], os.environ[\"S3_PREFIX\"], \"\")\n",
    "s3_output_path = os.path.join(os.environ[\"S3_OUTPUT_BUCKET\"], os.environ[\"S3_PREFIX\"], model_id)\n",
    "\n",
    "print(f\"s3_input_path: {s3_input_path}\")\n",
    "print(f\"s3_output_path: {s3_output_path}\")"
   ]
  },
  {
   "cell_type": "code",
   "execution_count": null,
   "id": "ff45e089-18b0-417b-8b68-26ab61d13d86",
   "metadata": {},
   "outputs": [],
   "source": [
    "# [Optional] Override default hyperparameters with custom values\n",
    "hyperparameters = {}\n",
    "hyperparameters[\"augmentation\"] = os.environ[\"AUGMENTATION\"]\n",
    "hyperparameters[\"augmentation_random_flip\"] = os.environ[\"AUGMENTATION_RANDOM_FLIP\"]\n",
    "hyperparameters[\"augmentation_random_rotation\"] = os.environ[\"AUGMENTATION_RANDOM_ROTATION\"]\n",
    "hyperparameters[\"augmentation_random_zoom\"] = os.environ[\"AUGMENTATION_RANDOM_ZOOM\"]\n",
    "hyperparameters[\"batch_size\"] = os.environ[\"BATCH_SIZE\"]\n",
    "hyperparameters[\"beta_1\"] = os.environ[\"BETA_1\"]\n",
    "hyperparameters[\"beta_2\"] = os.environ[\"BETA_2\"]\n",
    "hyperparameters[\"binary_mode\"] = os.environ[\"BINARY_MODE\"]\n",
    "hyperparameters[\"dropout_rate\"] = os.environ[\"DROPOUT_RATE\"]\n",
    "hyperparameters[\"early_stopping\"] = os.environ[\"EARLY_STOPPING\"]\n",
    "hyperparameters[\"early_stopping_min_delta\"] = os.environ[\"EARLY_STOPPING_MIN_DELTA\"]\n",
    "hyperparameters[\"early_stopping_patience\"] = os.environ[\"EARLY_STOPPING_PATIENCE\"]\n",
    "hyperparameters[\"epochs\"] = os.environ[\"EPOCHS\"]\n",
    "hyperparameters[\"epsilon\"] = os.environ[\"EPSILON\"]\n",
    "hyperparameters[\"eval_metric\"] = os.environ[\"EVAL_METRIC\"]\n",
    "hyperparameters[\"image_resize_interpolation\"] = os.environ[\"IMAGE_RESIZE_INTERPOLATION\"]\n",
    "hyperparameters[\"initial_accumulator_value\"] = os.environ[\"INITIAL_ACCUMULATOR_VALUE\"]\n",
    "hyperparameters[\"label_smoothing\"] = os.environ[\"LABEL_SMOOTHING\"]\n",
    "hyperparameters[\"learning_rate\"] = os.environ[\"LEARNING_RATE\"]\n",
    "hyperparameters[\"momentum\"] = os.environ[\"MOMENTUM\"]\n",
    "hyperparameters[\"optimizer\"] = os.environ[\"OPTIMIZER\"]\n",
    "hyperparameters[\"regularizers_l2\"] = os.environ[\"REGULARIZERS_L2\"]\n",
    "hyperparameters[\"reinitialize_top_layer\"] = os.environ[\"REINITIALIZE_TOP_LAYER\"]\n",
    "hyperparameters[\"rho\"] = os.environ[\"RHO\"]\n",
    "hyperparameters[\"train_only_on_top_layer\"] = os.environ[\"TRAIN_ONLY_ON_TOP_LAYER\"]\n",
    "hyperparameters"
   ]
  },
  {
   "cell_type": "code",
   "execution_count": null,
   "id": "14a2b6ad-58ca-4222-8864-cfb804ea0c53",
   "metadata": {},
   "outputs": [],
   "source": [
    "hp_tuning = os.environ[\"ENABLE_HP_TUNING\"] == \"True\"\n",
    "if hp_tuning:    \n",
    "    # You can select from the hyperparameters supported by the model, and configure ranges of values to be searched for training the optimal model.(https://docs.aws.amazon.com/sagemaker/latest/dg/automatic-model-tuning-define-ranges.html)\n",
    "    hyperparameter_ranges = {\n",
    "        \"learning_rate\": ContinuousParameter(1e-5, 1e-1, scaling_type=\"Logarithmic\"),\n",
    "        \"dropout_rate\": ContinuousParameter(0.1, 0.5, scaling_type=\"Linear\"),\n",
    "        \"regularizers_l2\": ContinuousParameter(1e-5, 1e-1, scaling_type=\"Logarithmic\"),\n",
    "    }"
   ]
  },
  {
   "cell_type": "code",
   "execution_count": null,
   "id": "ca685e1a-314e-4ecd-96ae-5d98408d1a7b",
   "metadata": {},
   "outputs": [],
   "source": [
    "estimator = BaseEstimator(\n",
    "    model_id=model_id,\n",
    "    model_version=model_version,\n",
    "    hyperparameters=hyperparameters,\n",
    "    instance_type=os.environ[\"TRAINING_INSTANCE_TYPE\"],\n",
    "    instance_count=int(os.environ[\"TRAINING_INSTANCE_COUNT\"]),\n",
    "    max_run=int(os.environ[\"MAX_RUN\"]),\n",
    "    output_path=s3_output_path,\n",
    "    base_job_name=base_job_name,\n",
    ")\n",
    "if hp_tuning:\n",
    "    hp_tuner = BaseHyperparameterTuner(\n",
    "        estimator=estimator,\n",
    "        hyperparameter_ranges=hyperparameter_ranges,\n",
    "        max_jobs=int(os.environ[\"MAX_JOBS\"]),\n",
    "        max_parallel_jobs=int(os.environ[\"MAX_PARALLEL_JOBS\"]),\n",
    "        base_job_name=base_job_name,\n",
    "    )"
   ]
  },
  {
   "cell_type": "code",
   "execution_count": null,
   "id": "8b2ad018-5cfe-4fdc-bb0c-a5cc466a61ad",
   "metadata": {
    "tags": []
   },
   "outputs": [],
   "source": [
    "%%time\n",
    "if hp_tuning:\n",
    "    # Launch a SageMaker Tuning job to search for the best hyperparameters\n",
    "    hp_tuner.fit({\"training\": s3_input_path}, logs=\"None\")\n",
    "else:\n",
    "    # Launch a SageMaker Training job by passing s3 path of the training data\n",
    "    estimator.fit({\"training\": s3_input_path}, logs=\"None\")"
   ]
  },
  {
   "cell_type": "code",
   "execution_count": null,
   "id": "61a3e106-384d-447d-9c17-fee92542e8e9",
   "metadata": {},
   "outputs": [],
   "source": [
    "# Identify the previously trained model path based on the output location where artifacts are stored previously and the training job name.\n",
    "if hp_tuning:  # If using amt, select the model for the best training job.\n",
    "    sage_client = boto3.Session().client(\"sagemaker\")\n",
    "    tuning_job_result = sage_client.describe_hyper_parameter_tuning_job(\n",
    "        HyperParameterTuningJobName=hp_tuner._estimator._current_job_name\n",
    "    )\n",
    "    last_training_job_name = tuning_job_result[\"BestTrainingJob\"][\"TrainingJobName\"]\n",
    "else:\n",
    "    last_training_job_name = estimator._estimator._current_job_name\n",
    "\n",
    "last_trained_model_path = f\"{s3_output_path}/{last_training_job_name}/output/model.tar.gz\"\n",
    "print(f\"Best model saved in:\\n{last_trained_model_path}\")"
   ]
  }
 ],
 "metadata": {
  "instance_type": "ml.t3.medium",
  "kernelspec": {
   "display_name": "Python 3 (Data Science)",
   "language": "python",
   "name": "python3__SAGEMAKER_INTERNAL__arn:aws:sagemaker:ca-central-1:310906938811:image/datascience-1.0"
  },
  "language_info": {
   "codemirror_mode": {
    "name": "ipython",
    "version": 3
   },
   "file_extension": ".py",
   "mimetype": "text/x-python",
   "name": "python",
   "nbconvert_exporter": "python",
   "pygments_lexer": "ipython3",
   "version": "3.7.10"
  }
 },
 "nbformat": 4,
 "nbformat_minor": 5
}
