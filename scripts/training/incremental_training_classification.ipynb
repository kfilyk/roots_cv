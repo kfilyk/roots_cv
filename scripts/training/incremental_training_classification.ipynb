{
 "cells": [
  {
   "cell_type": "code",
   "execution_count": null,
   "id": "e26925bf-714d-42ab-ac48-ee0bef8d174b",
   "metadata": {},
   "outputs": [],
   "source": [
    "import os\n",
    "import sys\n",
    "from dotenv import load_dotenv\n",
    "from sagemaker.estimator import Estimator\n",
    "from sagemaker.utils import name_from_base\n",
    "from sagemaker import (\n",
    "    get_execution_role, image_uris, script_uris\n",
    ")\n",
    "\n",
    "sys.path.append(os.path.join(\"..\", \"..\"))\n",
    "from utils.estimators import BaseEstimator"
   ]
  },
  {
   "cell_type": "code",
   "execution_count": null,
   "id": "adc6dfbd-5c2c-446b-8c2d-58dcc51d7649",
   "metadata": {},
   "outputs": [],
   "source": [
    "load_dotenv(os.path.join(\"..\", \"..\", \"env\"))"
   ]
  },
  {
   "cell_type": "code",
   "execution_count": null,
   "id": "fb85062d-0ac8-4c48-a7ac-d4fe5a0390fd",
   "metadata": {},
   "outputs": [],
   "source": [
    "model_id = os.environ[\"IC_MODEL_ID\"]\n",
    "model_version = os.environ[\"IC_MODEL_VERSION\"]\n",
    "model_uri = os.environ[\"IC_MODEL_URI\"]\n",
    "\n",
    "base_job_name = name_from_base(model_id.replace(\"tensorflow-\", \"\"))\n",
    "print(f\"base_job_name: {base_job_name}\")"
   ]
  },
  {
   "cell_type": "code",
   "execution_count": null,
   "id": "1e6f96a6-4328-4a5f-a0d6-039529c71e39",
   "metadata": {},
   "outputs": [],
   "source": [
    "s3_input_path = os.path.join(os.environ[\"IC_S3_INPUT_PATH\"], \"\")\n",
    "s3_output_path = os.path.join(os.environ[\"IC_S3_OUTPUT_PATH\"], model_id)\n",
    "\n",
    "print(f\"s3_input_path: {s3_input_path}\")\n",
    "print(f\"s3_output_path: {s3_output_path}\")"
   ]
  },
  {
   "cell_type": "code",
   "execution_count": null,
   "id": "27aed839-48f4-4c91-b7a4-f37104f97af4",
   "metadata": {},
   "outputs": [],
   "source": [
    "hyperparameters = {}\n",
    "hyperparameters[\"augmentation\"] = os.environ[\"IC_AUGMENTATION\"]\n",
    "hyperparameters[\"augmentation_random_flip\"] = os.environ[\"IC_AUGMENTATION_RANDOM_FLIP\"]\n",
    "hyperparameters[\"augmentation_random_rotation\"] = os.environ[\"IC_AUGMENTATION_RANDOM_ROTATION\"]\n",
    "hyperparameters[\"augmentation_random_zoom\"] = os.environ[\"IC_AUGMENTATION_RANDOM_ZOOM\"]\n",
    "hyperparameters[\"batch_size\"] = os.environ[\"IC_BATCH_SIZE\"]\n",
    "hyperparameters[\"beta_1\"] = os.environ[\"IC_BETA_1\"]\n",
    "hyperparameters[\"beta_2\"] = os.environ[\"IC_BETA_2\"]\n",
    "hyperparameters[\"binary_mode\"] = os.environ[\"IC_BINARY_MODE\"]\n",
    "hyperparameters[\"dropout_rate\"] = os.environ[\"IC_DROPOUT_RATE\"]\n",
    "hyperparameters[\"early_stopping\"] = os.environ[\"IC_EARLY_STOPPING\"]\n",
    "hyperparameters[\"early_stopping_min_delta\"] = os.environ[\"IC_EARLY_STOPPING_MIN_DELTA\"]\n",
    "hyperparameters[\"early_stopping_patience\"] = os.environ[\"IC_EARLY_STOPPING_PATIENCE\"]\n",
    "hyperparameters[\"epochs\"] = os.environ[\"IC_EPOCHS\"]\n",
    "hyperparameters[\"epsilon\"] = os.environ[\"IC_EPSILON\"]\n",
    "hyperparameters[\"eval_metric\"] = os.environ[\"IC_EVAL_METRIC\"]\n",
    "hyperparameters[\"image_resize_interpolation\"] = os.environ[\"IC_IMAGE_RESIZE_INTERPOLATION\"]\n",
    "hyperparameters[\"initial_accumulator_value\"] = os.environ[\"IC_INITIAL_ACCUMULATOR_VALUE\"]\n",
    "hyperparameters[\"label_smoothing\"] = os.environ[\"IC_LABEL_SMOOTHING\"]\n",
    "hyperparameters[\"learning_rate\"] = os.environ[\"IC_LEARNING_RATE\"]\n",
    "hyperparameters[\"momentum\"] = os.environ[\"IC_MOMENTUM\"]\n",
    "hyperparameters[\"optimizer\"] = os.environ[\"IC_OPTIMIZER\"]\n",
    "hyperparameters[\"regularizers_l2\"] = os.environ[\"IC_REGULARIZERS_L2\"]\n",
    "hyperparameters[\"reinitialize_top_layer\"] = os.environ[\"IC_REINITIALIZE_TOP_LAYER\"]\n",
    "hyperparameters[\"rho\"] = os.environ[\"IC_RHO\"]\n",
    "hyperparameters[\"train_only_on_top_layer\"] = os.environ[\"IC_TRAIN_ONLY_ON_TOP_LAYER\"]\n",
    "hyperparameters"
   ]
  },
  {
   "cell_type": "code",
   "execution_count": null,
   "id": "8f0b790d-da70-46f5-bc29-357e70b3fb89",
   "metadata": {},
   "outputs": [],
   "source": [
    "estimator = BaseEstimator(\n",
    "    model_id=model_id,\n",
    "    model_version=model_version,\n",
    "    model_uri=model_uri,\n",
    "    hyperparameters=hyperparameters,\n",
    "    instance_type=os.environ[\"IC_TRAINING_INSTANCE_TYPE\"],\n",
    "    instance_count=int(os.environ[\"IC_TRAINING_INSTANCE_COUNT\"]),\n",
    "    max_run=int(os.environ[\"IC_MAX_RUN\"]),\n",
    "    output_path=s3_output_path,\n",
    "    base_job_name=base_job_name,\n",
    ")"
   ]
  },
  {
   "cell_type": "code",
   "execution_count": null,
   "id": "f7ed3bcd-9579-47ab-b61c-da944321ee1e",
   "metadata": {
    "tags": []
   },
   "outputs": [],
   "source": [
    "%%time\n",
    "estimator.fit({\"training\": s3_input_path}, logs=\"None\")"
   ]
  }
 ],
 "metadata": {
  "instance_type": "ml.t3.medium",
  "kernelspec": {
   "display_name": "Python 3 (Data Science)",
   "language": "python",
   "name": "python3__SAGEMAKER_INTERNAL__arn:aws:sagemaker:ca-central-1:310906938811:image/datascience-1.0"
  },
  "language_info": {
   "codemirror_mode": {
    "name": "ipython",
    "version": 3
   },
   "file_extension": ".py",
   "mimetype": "text/x-python",
   "name": "python",
   "nbconvert_exporter": "python",
   "pygments_lexer": "ipython3",
   "version": "3.7.10"
  }
 },
 "nbformat": 4,
 "nbformat_minor": 5
}
