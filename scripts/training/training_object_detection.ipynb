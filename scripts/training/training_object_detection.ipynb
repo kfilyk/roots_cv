{
 "cells": [
  {
   "cell_type": "code",
   "execution_count": null,
   "id": "e26925bf-714d-42ab-ac48-ee0bef8d174b",
   "metadata": {},
   "outputs": [],
   "source": [
    "import os\n",
    "import sys\n",
    "import boto3\n",
    "from dotenv import load_dotenv\n",
    "from sagemaker.utils import name_from_base\n",
    "from sagemaker.tuner import ContinuousParameter\n",
    "\n",
    "sys.path.append(os.path.join(\"..\", \"..\"))\n",
    "from utils.estimators import BaseEstimator, BaseHyperparameterTuner"
   ]
  },
  {
   "cell_type": "code",
   "execution_count": null,
   "id": "5535d03d-316c-4837-bd13-22704c1e2b72",
   "metadata": {},
   "outputs": [],
   "source": [
    "load_dotenv(os.path.join(\"..\", \"..\", \"env\"))"
   ]
  },
  {
   "cell_type": "code",
   "execution_count": null,
   "id": "1e0bd249-0699-4b66-9071-1796b8a48ba8",
   "metadata": {},
   "outputs": [],
   "source": [
    "model_id = os.environ[\"OD_MODEL_ID\"]\n",
    "model_version = os.environ[\"OD_MODEL_VERSION\"]\n",
    "\n",
    "base_job_name = name_from_base(model_id.replace(\"tensorflow\", \"tf\"))\n",
    "print(f\"base_job_name: {base_job_name}\")"
   ]
  },
  {
   "cell_type": "code",
   "execution_count": null,
   "id": "1e6f96a6-4328-4a5f-a0d6-039529c71e39",
   "metadata": {},
   "outputs": [],
   "source": [
    "s3_input_path = os.path.join(os.environ[\"OD_S3_INPUT_PATH\"])\n",
    "s3_output_path = os.path.join(os.environ[\"OD_S3_OUTPUT_PATH\"], model_id)\n",
    "\n",
    "print(f\"s3_input_path: {s3_input_path}\")\n",
    "print(f\"s3_output_path: {s3_output_path}\")"
   ]
  },
  {
   "cell_type": "code",
   "execution_count": null,
   "id": "ff45e089-18b0-417b-8b68-26ab61d13d86",
   "metadata": {},
   "outputs": [],
   "source": [
    "hyperparameters = {}\n",
    "hyperparameters[\"adam-learning-rate\"] = os.environ[\"OD_ADAM_LEARNING_RATE\"]\n",
    "hyperparameters[\"batch-size\"] = os.environ[\"OD_BATCH_SIZE\"]\n",
    "hyperparameters[\"epochs\"] = os.environ[\"OD_EPOCHS\"]\n",
    "hyperparameters[\"reinitialize-top-layer\"] = os.environ[\"OD_REINITIALIZE_TOP_LAYER\"]\n",
    "hyperparameters[\"train-only-top-layer\"] = os.environ[\"OD_TRAIN_ONLY_TOP_LAYER\"]\n",
    "hyperparameters"
   ]
  },
  {
   "cell_type": "code",
   "execution_count": null,
   "id": "14a2b6ad-58ca-4222-8864-cfb804ea0c53",
   "metadata": {},
   "outputs": [],
   "source": [
    "hp_tuning = os.environ[\"OD_ENABLE_HP_TUNING\"] == \"True\"\n",
    "if hp_tuning:    \n",
    "    # You can select from the hyperparameters supported by the model, and configure ranges of values to be searched for training the optimal model.\n",
    "    # (https://docs.aws.amazon.com/sagemaker/latest/dg/automatic-model-tuning-define-ranges.html)\n",
    "    hyperparameter_ranges = {\n",
    "        \"adam-learning-rate\": ContinuousParameter(1e-5, 1e-1, scaling_type=\"Logarithmic\"),\n",
    "    }"
   ]
  },
  {
   "cell_type": "code",
   "execution_count": null,
   "id": "ca685e1a-314e-4ecd-96ae-5d98408d1a7b",
   "metadata": {},
   "outputs": [],
   "source": [
    "estimator = BaseEstimator(\n",
    "    model_id=model_id,\n",
    "    model_version=model_version,\n",
    "    hyperparameters=hyperparameters,\n",
    "    instance_type=os.environ[\"OD_TRAINING_INSTANCE_TYPE\"],\n",
    "    instance_count=int(os.environ[\"OD_TRAINING_INSTANCE_COUNT\"]),\n",
    "    max_run=int(os.environ[\"OD_MAX_RUN\"]),\n",
    "    output_path=s3_output_path,\n",
    "    base_job_name=base_job_name,\n",
    ")\n",
    "if hp_tuning:\n",
    "    hp_tuner = BaseHyperparameterTuner(\n",
    "        estimator=estimator,\n",
    "        hyperparameter_ranges=hyperparameter_ranges,\n",
    "        max_jobs=int(os.environ[\"OD_MAX_JOBS\"]),\n",
    "        max_parallel_jobs=int(os.environ[\"OD_MAX_PARALLEL_JOBS\"]),\n",
    "        base_job_name=base_job_name,\n",
    "    )"
   ]
  },
  {
   "cell_type": "code",
   "execution_count": null,
   "id": "8b2ad018-5cfe-4fdc-bb0c-a5cc466a61ad",
   "metadata": {
    "tags": []
   },
   "outputs": [],
   "source": [
    "%%time\n",
    "if hp_tuning:\n",
    "    # Launch a SageMaker Tuning job to search for the best hyperparameters\n",
    "    hp_tuner.fit({\"training\": s3_input_path}, logs=\"None\")\n",
    "else:\n",
    "    # Launch a SageMaker Training job by passing s3 path of the training data\n",
    "    estimator.fit({\"training\": s3_input_path}, logs=\"None\")"
   ]
  },
  {
   "cell_type": "code",
   "execution_count": null,
   "id": "61a3e106-384d-447d-9c17-fee92542e8e9",
   "metadata": {},
   "outputs": [],
   "source": [
    "# Identify the previously trained model path based on the output location where artifacts are stored previously and the training job name.\n",
    "if hp_tuning:  # If using amt, select the model for the best training job.\n",
    "    sage_client = boto3.Session().client(\"sagemaker\")\n",
    "    tuning_job_result = sage_client.describe_hyper_parameter_tuning_job(\n",
    "        HyperParameterTuningJobName=hp_tuner._estimator._current_job_name\n",
    "    )\n",
    "    last_training_job_name = tuning_job_result[\"BestTrainingJob\"][\"TrainingJobName\"]\n",
    "else:\n",
    "    last_training_job_name = estimator._estimator._current_job_name\n",
    "\n",
    "last_trained_model_path = f\"{s3_output_path}/{last_training_job_name}/output/model.tar.gz\"\n",
    "print(f\"Best model saved in:\\n{last_trained_model_path}\")"
   ]
  }
 ],
 "metadata": {
  "instance_type": "ml.t3.medium",
  "kernelspec": {
   "display_name": "Python 3 (Data Science)",
   "language": "python",
   "name": "python3__SAGEMAKER_INTERNAL__arn:aws:sagemaker:ca-central-1:310906938811:image/datascience-1.0"
  },
  "language_info": {
   "codemirror_mode": {
    "name": "ipython",
    "version": 3
   },
   "file_extension": ".py",
   "mimetype": "text/x-python",
   "name": "python",
   "nbconvert_exporter": "python",
   "pygments_lexer": "ipython3",
   "version": "3.7.10"
  }
 },
 "nbformat": 4,
 "nbformat_minor": 5
}
