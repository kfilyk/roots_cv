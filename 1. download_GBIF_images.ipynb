{
 "cells": [
  {
   "cell_type": "code",
   "execution_count": null,
   "id": "574e1142-9f44-4110-b3b0-0da734ff7903",
   "metadata": {},
   "outputs": [],
   "source": [
    "!pip install -U tqdm --quiet"
   ]
  },
  {
   "cell_type": "code",
   "execution_count": null,
   "id": "13c69cb2-e24e-4d4d-b7c0-7d1534549f20",
   "metadata": {},
   "outputs": [],
   "source": [
    "import os\n",
    "import requests\n",
    "import numpy as np\n",
    "import pandas as pd\n",
    "from PIL import Image\n",
    "from tqdm import tqdm\n",
    "from dotenv import load_dotenv\n",
    "\n",
    "from utils.s3_bucket import S3Bucket"
   ]
  },
  {
   "cell_type": "code",
   "execution_count": null,
   "id": "4a5796a1-a0db-473c-9334-0a53a4c21773",
   "metadata": {},
   "outputs": [],
   "source": [
    "load_dotenv(\"env\")"
   ]
  },
  {
   "cell_type": "code",
   "execution_count": null,
   "id": "572337d1-6a5b-4fd8-a963-fd9702275501",
   "metadata": {},
   "outputs": [],
   "source": [
    "bucket_name = \"ava-cv-raw-photo-bucket\"\n",
    "input_prefix = os.path.join(\"GBIF-csv\", \"Pl@ntNet\")\n",
    "output_prefix = os.path.join(\"10-plants\", \"Pl@ntNet\")"
   ]
  },
  {
   "cell_type": "code",
   "execution_count": null,
   "id": "adae1888-6510-49dd-83ff-c7b9ba681d76",
   "metadata": {},
   "outputs": [],
   "source": [
    "bucket = S3Bucket(\n",
    "    bucket_name=bucket_name,\n",
    "    region_name=os.environ[\"REGION_NAME\"],\n",
    ")\n",
    "\n",
    "input_key = os.path.join(input_prefix, \"occurrence.txt\")\n",
    "occurrences = pd.read_csv(bucket[input_key], sep=\"\\t\", parse_dates=[\"eventDate\"])\n",
    "not_null_columns = occurrences.columns[~occurrences.isnull().all()]\n",
    "print(\"Columns that are not null:\")\n",
    "print(list(not_null_columns))"
   ]
  },
  {
   "cell_type": "code",
   "execution_count": null,
   "id": "6e058237-02e3-4766-a5e0-5a5184be5e64",
   "metadata": {},
   "outputs": [],
   "source": [
    "# Remove irrelevant columns\n",
    "occurrences = occurrences[[\"gbifID\", \"species\", \"genus\", \"eventDate\"]]\n",
    "occurrences"
   ]
  },
  {
   "cell_type": "code",
   "execution_count": null,
   "id": "556d6124-c6d1-45fc-b430-eaeac47de0a2",
   "metadata": {},
   "outputs": [],
   "source": [
    "name_mapping = {\n",
    "    \"fragaria\": \"strawberry\",\n",
    "    \"mentha\": \"mint\",\n",
    "    \"origanum vulgare\": \"oregano\",\n",
    "    \"solanum lycopersicum\": \"tomato\",\n",
    "    \"capsicum annuum\": \"pepper\",\n",
    "    \"cucurbita pepo\": \"zucchini\",\n",
    "    \"coriandrum sativum\": \"cilantro\",\n",
    "    \"anethum graveolens\": \"dill\",\n",
    "    \"lactuca sativa\": \"lettuce\",\n",
    "    \"ocimum basilicum\": \"basil\"\n",
    "}\n",
    "\n",
    "\n",
    "def get_name(row):\n",
    "    genus_to_classify = [\"fragaria\", \"mentha\"]\n",
    "    if row[\"genus\"] in genus_to_classify:\n",
    "        scientific_name = row[\"genus\"]\n",
    "    else:\n",
    "        scientific_name = row[\"species\"]\n",
    "        \n",
    "    if scientific_name in name_mapping.keys():\n",
    "        common_name = name_mapping[scientific_name]\n",
    "        return common_name\n",
    "    \n",
    "    return \"nan\"\n",
    "\n",
    "\n",
    "# Create new name column which is a combination of both genus and species names\n",
    "occurrences[[\"genus\", \"species\"]] = (\n",
    "    occurrences[[\"genus\", \"species\"]]\n",
    "    .apply(lambda x: x.astype(str).str.lower())\n",
    ")\n",
    "occurrences[\"name\"] = occurrences.apply(lambda row: get_name(row), axis=1)\n",
    "occurrences = occurrences.drop(columns=[\"species\", \"genus\"])\n",
    "occurrences = occurrences[occurrences[\"name\"] != \"nan\"]  # remove any rows whose name is \"nan\"\n",
    "occurrences"
   ]
  },
  {
   "cell_type": "code",
   "execution_count": null,
   "id": "923d7f61-b5a6-47f2-aec3-fbba0964ee47",
   "metadata": {},
   "outputs": [],
   "source": [
    "# Get source URL for each ID\n",
    "input_key = os.path.join(input_prefix, \"multimedia.txt\")\n",
    "sources = pd.read_csv(bucket[input_key], sep=\"\\t\")\n",
    "sources = sources[[\"gbifID\", \"identifier\"]]\n",
    "occurrences = occurrences.merge(sources, how=\"left\", on=\"gbifID\")\n",
    "occurrences"
   ]
  },
  {
   "cell_type": "code",
   "execution_count": null,
   "id": "b16c566e-b57c-4096-8a99-d6f6c5e098eb",
   "metadata": {},
   "outputs": [],
   "source": [
    "occurrences[\"name\"].value_counts()"
   ]
  },
  {
   "cell_type": "code",
   "execution_count": null,
   "id": "05f22edd-2e24-4980-85e3-8ab72c9aeea4",
   "metadata": {},
   "outputs": [],
   "source": [
    "# Get newest nlargest rows from each name for training\n",
    "nlargest = min(occurrences[\"name\"].value_counts())\n",
    "print(nlargest)\n",
    "nlargest_indices = occurrences.groupby(\"name\")[\"eventDate\"].nlargest(nlargest).reset_index()[\"level_1\"]\n",
    "occurrences = occurrences[occurrences.index.isin(nlargest_indices)].reset_index(drop=True).reset_index()\n",
    "occurrences"
   ]
  },
  {
   "cell_type": "code",
   "execution_count": null,
   "id": "98585a69-8bfa-4972-b1f4-1cb4386325ea",
   "metadata": {},
   "outputs": [],
   "source": [
    "def download_image(row, prefix):\n",
    "    try:\n",
    "        image = Image.open(requests.get(row[\"identifier\"], stream=True).raw).convert('RGB')\n",
    "        output_key = os.path.join(prefix, row[\"name\"], f'{row[\"gbifID\"]}-{row[\"index\"]}.jpg')\n",
    "        bucket[output_key] = image\n",
    "    except KeyboardInterrupt as exc:\n",
    "        raise exc\n",
    "    except:\n",
    "        print(f'Encountered error when attempting to download {row[\"identifier\"]}')\n",
    "\n",
    "tqdm.pandas()"
   ]
  },
  {
   "cell_type": "code",
   "execution_count": null,
   "id": "c65ecc02-51fe-4901-9d04-38e8a09b178e",
   "metadata": {},
   "outputs": [],
   "source": [
    "%%time\n",
    "_ = occurrences.progress_apply(lambda row: download_image(row, output_prefix), axis=1)"
   ]
  }
 ],
 "metadata": {
  "instance_type": "ml.t3.medium",
  "kernelspec": {
   "display_name": "Python 3 (Data Science)",
   "language": "python",
   "name": "python3__SAGEMAKER_INTERNAL__arn:aws:sagemaker:ca-central-1:310906938811:image/datascience-1.0"
  },
  "language_info": {
   "codemirror_mode": {
    "name": "ipython",
    "version": 3
   },
   "file_extension": ".py",
   "mimetype": "text/x-python",
   "name": "python",
   "nbconvert_exporter": "python",
   "pygments_lexer": "ipython3",
   "version": "3.7.10"
  }
 },
 "nbformat": 4,
 "nbformat_minor": 5
}
