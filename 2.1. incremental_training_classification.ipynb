{
 "cells": [
  {
   "cell_type": "code",
   "execution_count": null,
   "id": "e26925bf-714d-42ab-ac48-ee0bef8d174b",
   "metadata": {},
   "outputs": [],
   "source": [
    "import os\n",
    "from dotenv import load_dotenv\n",
    "from sagemaker.estimator import Estimator\n",
    "from sagemaker.utils import name_from_base\n",
    "from sagemaker import (\n",
    "    get_execution_role, image_uris, script_uris\n",
    ")"
   ]
  },
  {
   "cell_type": "code",
   "execution_count": null,
   "id": "fb85062d-0ac8-4c48-a7ac-d4fe5a0390fd",
   "metadata": {},
   "outputs": [],
   "source": [
    "load_dotenv(\"env\")\n",
    "\n",
    "model_id = os.environ[\"IMAGE_CLASSIFICATION_MODEL_ID\"]\n",
    "model_version = os.environ[\"IMAGE_CLASSIFICATION_MODEL_VERSION\"]\n",
    "model_uri = os.environ[\"IMAGE_CLASSIFICATION_MODEL_URI\"]\n",
    "\n",
    "base_job_name = name_from_base(model_id.replace(\"tensorflow-\", \"\"))\n",
    "print(f\"base_job_name: {base_job_name}\")"
   ]
  },
  {
   "cell_type": "code",
   "execution_count": null,
   "id": "1e6f96a6-4328-4a5f-a0d6-039529c71e39",
   "metadata": {},
   "outputs": [],
   "source": [
    "s3_input_path = os.path.join(os.environ[\"S3_INPUT_BUCKET\"], os.environ[\"S3_PREFIX\"], \"\")\n",
    "s3_output_path = os.path.join(os.environ[\"S3_OUTPUT_BUCKET\"], os.environ[\"S3_PREFIX\"], model_id)\n",
    "\n",
    "print(f\"s3_input_path: {s3_input_path}\")\n",
    "print(f\"s3_output_path: {s3_output_path}\")"
   ]
  },
  {
   "cell_type": "code",
   "execution_count": null,
   "id": "27aed839-48f4-4c91-b7a4-f37104f97af4",
   "metadata": {},
   "outputs": [],
   "source": [
    "# [Optional] Override default hyperparameters with custom values \n",
    "hyperparameters = {}\n",
    "hyperparameters[\"augmentation\"] = os.environ[\"AUGMENTATION\"]\n",
    "hyperparameters[\"augmentation_random_flip\"] = os.environ[\"AUGMENTATION_RANDOM_FLIP\"]\n",
    "hyperparameters[\"augmentation_random_rotation\"] = os.environ[\"AUGMENTATION_RANDOM_ROTATION\"]\n",
    "hyperparameters[\"augmentation_random_zoom\"] = os.environ[\"AUGMENTATION_RANDOM_ZOOM\"]\n",
    "hyperparameters[\"batch_size\"] = os.environ[\"BATCH_SIZE\"]\n",
    "hyperparameters[\"beta_1\"] = os.environ[\"BETA_1\"]\n",
    "hyperparameters[\"beta_2\"] = os.environ[\"BETA_2\"]\n",
    "hyperparameters[\"binary_mode\"] = os.environ[\"BINARY_MODE\"]\n",
    "hyperparameters[\"dropout_rate\"] = os.environ[\"DROPOUT_RATE\"]\n",
    "hyperparameters[\"early_stopping\"] = os.environ[\"EARLY_STOPPING\"]\n",
    "hyperparameters[\"early_stopping_min_delta\"] = os.environ[\"EARLY_STOPPING_MIN_DELTA\"]\n",
    "hyperparameters[\"early_stopping_patience\"] = os.environ[\"EARLY_STOPPING_PATIENCE\"]\n",
    "hyperparameters[\"epochs\"] = os.environ[\"EPOCHS\"]\n",
    "hyperparameters[\"epsilon\"] = os.environ[\"EPSILON\"]\n",
    "hyperparameters[\"eval_metric\"] = os.environ[\"EVAL_METRIC\"]\n",
    "hyperparameters[\"image_resize_interpolation\"] = os.environ[\"IMAGE_RESIZE_INTERPOLATION\"]\n",
    "hyperparameters[\"initial_accumulator_value\"] = os.environ[\"INITIAL_ACCUMULATOR_VALUE\"]\n",
    "hyperparameters[\"label_smoothing\"] = os.environ[\"LABEL_SMOOTHING\"]\n",
    "hyperparameters[\"learning_rate\"] = os.environ[\"LEARNING_RATE\"]\n",
    "hyperparameters[\"momentum\"] = os.environ[\"MOMENTUM\"]\n",
    "hyperparameters[\"optimizer\"] = os.environ[\"OPTIMIZER\"]\n",
    "hyperparameters[\"regularizers_l2\"] = os.environ[\"REGULARIZERS_L2\"]\n",
    "hyperparameters[\"reinitialize_top_layer\"] = os.environ[\"REINITIALIZE_TOP_LAYER\"]\n",
    "hyperparameters[\"rho\"] = os.environ[\"RHO\"]\n",
    "hyperparameters[\"train_only_on_top_layer\"] = os.environ[\"TRAIN_ONLY_ON_TOP_LAYER\"]\n",
    "hyperparameters"
   ]
  },
  {
   "cell_type": "code",
   "execution_count": null,
   "id": "8f0b790d-da70-46f5-bc29-357e70b3fb89",
   "metadata": {},
   "outputs": [],
   "source": [
    "# Create SageMaker Estimator instance\n",
    "estimator = BaseEstimator(\n",
    "    model_id=model_id,\n",
    "    model_version=model_version,\n",
    "    model_uri=model_uri,\n",
    "    hyperparameters=hyperparameters,\n",
    "    instance_type=os.environ[\"TRAINING_INSTANCE_TYPE\"],\n",
    "    instance_count=int(os.environ[\"TRAINING_INSTANCE_COUNT\"]),\n",
    "    max_run=int(os.environ[\"MAX_RUN\"]),\n",
    "    output_path=s3_output_path,\n",
    "    base_job_name=base_job_name,\n",
    ")"
   ]
  },
  {
   "cell_type": "code",
   "execution_count": null,
   "id": "f7ed3bcd-9579-47ab-b61c-da944321ee1e",
   "metadata": {
    "tags": []
   },
   "outputs": [],
   "source": [
    "%%time\n",
    "estimator.fit({\"training\": s3_input_path}, logs=\"None\")"
   ]
  }
 ],
 "metadata": {
  "instance_type": "ml.t3.medium",
  "kernelspec": {
   "display_name": "Python 3 (Data Science)",
   "language": "python",
   "name": "python3__SAGEMAKER_INTERNAL__arn:aws:sagemaker:ca-central-1:310906938811:image/datascience-1.0"
  },
  "language_info": {
   "codemirror_mode": {
    "name": "ipython",
    "version": 3
   },
   "file_extension": ".py",
   "mimetype": "text/x-python",
   "name": "python",
   "nbconvert_exporter": "python",
   "pygments_lexer": "ipython3",
   "version": "3.7.10"
  }
 },
 "nbformat": 4,
 "nbformat_minor": 5
}
