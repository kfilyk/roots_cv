{
 "cells": [
  {
   "cell_type": "code",
   "execution_count": null,
   "id": "82e67256-5f9c-49d1-9af1-7751536366d6",
   "metadata": {},
   "outputs": [],
   "source": [
    "%matplotlib inline"
   ]
  },
  {
   "cell_type": "code",
   "execution_count": null,
   "id": "35334135-cdc0-43dc-b648-f7d587bcacd8",
   "metadata": {},
   "outputs": [],
   "source": [
    "import os\n",
    "import numpy as np\n",
    "import matplotlib.patches as patches\n",
    "from dotenv import load_dotenv\n",
    "from PIL import ImageColor\n",
    "from matplotlib import pyplot as plt\n",
    "\n",
    "from utils.s3_bucket import S3Bucket\n",
    "from utils.predictors import ObjectDetectionPredictor, ImageClassificationPredictor"
   ]
  },
  {
   "cell_type": "code",
   "execution_count": null,
   "id": "4136b53c-cd49-453f-8a03-4f333b76e939",
   "metadata": {},
   "outputs": [],
   "source": [
    "load_dotenv(\"env\")"
   ]
  },
  {
   "cell_type": "markdown",
   "id": "c395e5ac-313f-43bf-bd35-0e1543ca395a",
   "metadata": {
    "tags": []
   },
   "source": [
    "# Object Detection"
   ]
  },
  {
   "cell_type": "code",
   "execution_count": null,
   "id": "ab4b8d5e-63e2-4582-a7c0-1581763a6ab9",
   "metadata": {},
   "outputs": [],
   "source": [
    "od_model_predictor = ObjectDetectionPredictor(\n",
    "    model_id=os.environ[\"OBJECT_DETECTION_MODEL_ID\"],\n",
    "    model_version=os.environ[\"OBJECT_DETECTION_MODEL_VERSION\"],\n",
    "    instance_type=os.environ[\"INFERENCE_INSTANCE_TYPE\"],\n",
    ")"
   ]
  },
  {
   "cell_type": "code",
   "execution_count": null,
   "id": "67796cdd-1366-404d-8e18-999279544483",
   "metadata": {},
   "outputs": [],
   "source": [
    "%%time\n",
    "od_model_predictor.deploy(\n",
    "    instance_type=os.environ[\"INFERENCE_INSTANCE_TYPE\"],\n",
    "    instance_count=int(os.environ[\"INFERENCE_INSTANCE_COUNT\"]),\n",
    ")"
   ]
  },
  {
   "cell_type": "code",
   "execution_count": null,
   "id": "cb52a477-eb60-4bd4-a50a-7f0a15dbaa70",
   "metadata": {
    "tags": []
   },
   "outputs": [],
   "source": [
    "bucket_name = \"ava-cv-raw-photo-bucket\"\n",
    "key = os.path.join(\"10-plants\", \"GoogleImages\", \"basil\", \"basilplant0.jpeg\")\n",
    "\n",
    "bucket = S3Bucket(\n",
    "    bucket_name=bucket_name,\n",
    "    region_name=os.environ[\"REGION_NAME\"]\n",
    ")\n",
    "image = bucket[key]\n",
    "image_np = np.array(image)\n",
    "plt.figure(figsize=(10, 10))\n",
    "plt.imshow(image_np)\n",
    "plt.show()"
   ]
  },
  {
   "cell_type": "code",
   "execution_count": null,
   "id": "4a7bcb42-b3b9-4d90-8209-c7d20256cc4a",
   "metadata": {
    "tags": []
   },
   "outputs": [],
   "source": [
    "%%time\n",
    "normalized_boxes, classes_names, confidences, labels = od_model_predictor.predict(image)"
   ]
  },
  {
   "cell_type": "code",
   "execution_count": null,
   "id": "e913c2d4-bc42-40f6-b0ed-da4916f213eb",
   "metadata": {},
   "outputs": [],
   "source": [
    "def display_predictions(image_np, normalized_boxes, classes_names, confidences):\n",
    "    n_boxes = len(normalized_boxes)\n",
    "    print(f\"Number of bounding boxes: {n_boxes}\")\n",
    "    colors = list(ImageColor.colormap.values())\n",
    "    plt.figure(figsize=(10, 10))\n",
    "    ax = plt.axes()\n",
    "    ax.imshow(image_np)\n",
    "\n",
    "    for idx in range(n_boxes):\n",
    "        left, bot, right, top = normalized_boxes[idx]\n",
    "        x, w = [val * image_np.shape[1] for val in [left, right - left]]\n",
    "        y, h = [val * image_np.shape[0] for val in [bot, top - bot]]\n",
    "        color = colors[hash(classes_names[idx]) % len(colors)]\n",
    "        rect = patches.Rectangle((x, y), w, h, linewidth=3, edgecolor=color, facecolor=\"none\")\n",
    "        ax.add_patch(rect)\n",
    "        ax.text(\n",
    "            x,\n",
    "            y,\n",
    "            \"{} {:.0f}%\".format(classes_names[idx], confidences[idx] * 100),\n",
    "            bbox=dict(facecolor=\"white\", alpha=0.5),\n",
    "        )"
   ]
  },
  {
   "cell_type": "code",
   "execution_count": null,
   "id": "66ab05f8-bcb5-4177-af77-f360a64493d9",
   "metadata": {},
   "outputs": [],
   "source": [
    "display_predictions(image_np, normalized_boxes, classes_names, confidences)"
   ]
  },
  {
   "cell_type": "code",
   "execution_count": null,
   "id": "57dc4019-6194-46f8-8775-ecd756292b41",
   "metadata": {},
   "outputs": [],
   "source": [
    "# Keep bounding boxes that are part of classes_to_keep\n",
    "classes_to_keep = [\"potted plant\"]\n",
    "n_boxes = len(normalized_boxes)\n",
    "normalized_boxes = [normalized_boxes[i] for i in range(n_boxes) if classes_names[i] in classes_to_keep]\n",
    "confidences = [confidences[i] for i in range(n_boxes) if classes_names[i] in classes_to_keep]\n",
    "classes_names = [classes_names[i] for i in range(n_boxes) if classes_names[i] in classes_to_keep]\n",
    "display_predictions(image_np, normalized_boxes, classes_names, confidences)"
   ]
  },
  {
   "cell_type": "code",
   "execution_count": null,
   "id": "4e675dc9-df6f-46c8-84a0-a3fb4e9341d9",
   "metadata": {},
   "outputs": [],
   "source": [
    "# Keep bounding boxes with confidence higher than min_confidence\n",
    "min_confidence = float(os.environ[\"OBJECT_DETECTION_MIN_CONFIDENCE\"])\n",
    "n_boxes = len(normalized_boxes)\n",
    "normalized_boxes = [normalized_boxes[i] for i in range(n_boxes) if confidences[i] >= min_confidence]\n",
    "classes_names = [classes_names[i] for i in range(n_boxes) if confidences[i] >= min_confidence]\n",
    "confidences = [confidences[i] for i in range(n_boxes) if confidences[i] >= min_confidence]\n",
    "display_predictions(image_np, normalized_boxes, classes_names, confidences)"
   ]
  },
  {
   "cell_type": "code",
   "execution_count": null,
   "id": "2c05dd63-06c5-4977-b4b2-4b93e7742888",
   "metadata": {
    "tags": []
   },
   "outputs": [],
   "source": [
    "cropped_images = []\n",
    "for normalized_box in normalized_boxes:\n",
    "    left, top, right, bot = normalized_box\n",
    "    left, right = [val * image_np.shape[1] for val in [left, right]]\n",
    "    bot, top = [val * image_np.shape[0] for val in [bot, top]]\n",
    "    cropped_image = image.crop((left, top, right, bot))\n",
    "    cropped_images.append(cropped_image)"
   ]
  },
  {
   "cell_type": "code",
   "execution_count": null,
   "id": "308fb798-972e-4305-b365-b924643c4719",
   "metadata": {},
   "outputs": [],
   "source": [
    "od_model_predictor.delete()"
   ]
  },
  {
   "cell_type": "markdown",
   "id": "cb302064-7339-4494-ba4b-65d64a9f2b8f",
   "metadata": {},
   "source": [
    "# Image Classification"
   ]
  },
  {
   "cell_type": "code",
   "execution_count": null,
   "id": "5452899b-6b1c-4345-a08b-2ffd15444a28",
   "metadata": {},
   "outputs": [],
   "source": [
    "ic_model_predictor = ImageClassificationPredictor(\n",
    "    model_id=os.environ[\"IMAGE_CLASSIFICATION_MODEL_ID\"],\n",
    "    model_version=os.environ[\"IMAGE_CLASSIFICATION_MODEL_VERSION\"],\n",
    "    model_uri=os.environ[\"IMAGE_CLASSIFICATION_MODEL_URI\"],\n",
    "    instance_type=os.environ[\"INFERENCE_INSTANCE_TYPE\"],\n",
    ")"
   ]
  },
  {
   "cell_type": "code",
   "execution_count": null,
   "id": "b47102bf-2452-4a0a-97db-df220f3dad1a",
   "metadata": {},
   "outputs": [],
   "source": [
    "%%time\n",
    "ic_model_predictor.deploy(\n",
    "    instance_type=os.environ[\"INFERENCE_INSTANCE_TYPE\"],\n",
    "    instance_count=int(os.environ[\"INFERENCE_INSTANCE_COUNT\"]),\n",
    ")"
   ]
  },
  {
   "cell_type": "code",
   "execution_count": null,
   "id": "7c02b513-9b17-4f6c-ae8f-89622811e84f",
   "metadata": {
    "tags": []
   },
   "outputs": [],
   "source": [
    "for cropped_image in cropped_images:\n",
    "    labels, probabilities = ic_model_predictor.predict(cropped_image)\n",
    "    plt.figure(figsize=(5, 5))\n",
    "    plt.imshow(np.array(cropped_image))\n",
    "    plt.show()\n",
    "    for label, probability in zip(labels, probabilities):\n",
    "        print(f\"{label}: {probability*100:.2f}%\")\n",
    "    print(\"\")"
   ]
  },
  {
   "cell_type": "code",
   "execution_count": null,
   "id": "c77501b2-902d-4f8d-9646-efae5ba9e7c4",
   "metadata": {},
   "outputs": [],
   "source": [
    "ic_model_predictor.delete()"
   ]
  }
 ],
 "metadata": {
  "instance_type": "ml.t3.medium",
  "kernelspec": {
   "display_name": "Python 3 (Data Science)",
   "language": "python",
   "name": "python3__SAGEMAKER_INTERNAL__arn:aws:sagemaker:ca-central-1:310906938811:image/datascience-1.0"
  },
  "language_info": {
   "codemirror_mode": {
    "name": "ipython",
    "version": 3
   },
   "file_extension": ".py",
   "mimetype": "text/x-python",
   "name": "python",
   "nbconvert_exporter": "python",
   "pygments_lexer": "ipython3",
   "version": "3.7.10"
  }
 },
 "nbformat": 4,
 "nbformat_minor": 5
}
